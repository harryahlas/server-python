{
 "cells": [
  {
   "cell_type": "markdown",
   "metadata": {},
   "source": [
    "### Notes\n",
    "Start with cmd: jupyter notebook C:\\Development\\github\\server-python"
   ]
  },
  {
   "cell_type": "code",
   "execution_count": 1,
   "metadata": {
    "collapsed": true
   },
   "outputs": [],
   "source": [
    "import findspark\n",
    "\n",
    "findspark.init()"
   ]
  },
  {
   "cell_type": "code",
   "execution_count": 2,
   "metadata": {},
   "outputs": [
    {
     "name": "stdout",
     "output_type": "stream",
     "text": [
      "+-----+\n",
      "|hello|\n",
      "+-----+\n",
      "|spark|\n",
      "+-----+\n",
      "\n"
     ]
    }
   ],
   "source": [
    "import pyspark\n",
    "\n",
    "from pyspark.sql import SparkSession\n",
    "\n",
    "spark = SparkSession.builder.getOrCreate()\n",
    "\n",
    "df = spark.sql(\"select 'spark' as hello \")\n",
    "\n",
    "df.show()"
   ]
  },
  {
   "cell_type": "code",
   "execution_count": 3,
   "metadata": {
    "collapsed": true
   },
   "outputs": [],
   "source": [
    "from pyspark.sql import SQLContext\n",
    "from pyspark import SparkContext\n",
    "\n",
    "#sqlContext = SQLContext(sc)"
   ]
  },
  {
   "cell_type": "code",
   "execution_count": 4,
   "metadata": {
    "collapsed": true
   },
   "outputs": [],
   "source": [
    "sc = SparkContext.getOrCreate();"
   ]
  },
  {
   "cell_type": "code",
   "execution_count": 5,
   "metadata": {
    "collapsed": true
   },
   "outputs": [],
   "source": [
    "#sqlContext = pyspark.SQLContext(pyspark.SparkContext())\n",
    "sqlContext = pyspark.SQLContext(sc)\n"
   ]
  },
  {
   "cell_type": "code",
   "execution_count": 17,
   "metadata": {
    "collapsed": true
   },
   "outputs": [],
   "source": [
    "recruiting = sqlContext.read.format('jdbc').options(\n",
    "          url='jdbc:mysql://localhost:3306/hrsample',\n",
    "          #driver='com.mysql.jdbc.Driver',\n",
    "          #driver='com.mysql.cj.jdbc.Driver',\n",
    "          dbtable='recruiting',\n",
    "          user='newuser',\n",
    "          password='newuser').load()\n",
    "\n",
    "deskhistory = sqlContext.read.format('jdbc').options(\n",
    "          url='jdbc:mysql://localhost:3306/hrsample',\n",
    "          #driver='com.mysql.jdbc.Driver',\n",
    "          #driver='com.mysql.cj.jdbc.Driver',\n",
    "          dbtable='deskhistory',\n",
    "          user='newuser',\n",
    "          password='newuser').load()"
   ]
  },
  {
   "cell_type": "code",
   "execution_count": 12,
   "metadata": {},
   "outputs": [
    {
     "data": {
      "text/plain": [
       "Row(employee_num=16684, desk_id=1, desk_id_start_date=datetime.date(1999, 1, 1), desk_id_end_date=datetime.date(2999, 1, 1), termination_flag=0, promotion_flag=0)"
      ]
     },
     "execution_count": 12,
     "metadata": {},
     "output_type": "execute_result"
    }
   ],
   "source": [
    "deskhistory.head()"
   ]
  },
  {
   "cell_type": "code",
   "execution_count": 9,
   "metadata": {
    "collapsed": true
   },
   "outputs": [],
   "source": [
    "import os\n",
    "os.environ[\"SPARK_CLASSPATH\"] = 'C:/Users/Spark/jars/postgresql-42.2.9.jar'"
   ]
  },
  {
   "cell_type": "code",
   "execution_count": 16,
   "metadata": {
    "collapsed": true
   },
   "outputs": [],
   "source": [
    "# postgres test\n",
    "# Download the PostgreSQL JDBC Driver from https://jdbc.postgresql.org/download.html.\n",
    "# anaconda prompt: export SPARK_CLASSPATH=C:\\Program Files\\PostgreSQL\n",
    "# none of above, update path using above\n",
    "#CHECK ERROR HERE\n",
    "employeeinfo = sqlContext.read.format('jdbc').options(\n",
    "          url='jdbc:postgresql://localhost:5432/postgres',\n",
    "          #driver='com.mysql.jdbc.Driver',\n",
    "          #driver='com.mysql.cj.jdbc.Driver',\n",
    "          dbtable='employeeinfo',\n",
    "          user='newuser',\n",
    "          password='newuser').load()"
   ]
  },
  {
   "cell_type": "code",
   "execution_count": 14,
   "metadata": {},
   "outputs": [
    {
     "data": {
      "text/plain": [
       "Row(desk_id=1, job_name='CEO')"
      ]
     },
     "execution_count": 14,
     "metadata": {},
     "output_type": "execute_result"
    }
   ],
   "source": [
    "deskjob.head()"
   ]
  },
  {
   "cell_type": "code",
   "execution_count": 18,
   "metadata": {},
   "outputs": [
    {
     "data": {
      "text/plain": [
       "DataFrame[employee_num: int, recruiting_source: string, first_contact_date: date, recruiter_employee_num: int]"
      ]
     },
     "execution_count": 18,
     "metadata": {},
     "output_type": "execute_result"
    }
   ],
   "source": [
    "recruiting"
   ]
  },
  {
   "cell_type": "code",
   "execution_count": null,
   "metadata": {
    "collapsed": true
   },
   "outputs": [],
   "source": []
  },
  {
   "cell_type": "code",
   "execution_count": null,
   "metadata": {
    "collapsed": true
   },
   "outputs": [],
   "source": [
    "# Below not needed"
   ]
  },
  {
   "cell_type": "code",
   "execution_count": null,
   "metadata": {
    "collapsed": true
   },
   "outputs": [],
   "source": [
    "del spark\n",
    "sc2 = pyspark.SparkContext('local[*]')"
   ]
  },
  {
   "cell_type": "code",
   "execution_count": null,
   "metadata": {
    "collapsed": true
   },
   "outputs": [],
   "source": [
    "from pyspark.sql import SparkSession\n",
    "\n",
    "spark = SparkSession \\\n",
    "    .builder \\\n",
    "    .appName(\"Python Spark SQL basic example\") \\\n",
    "    .config(\"spark.jars\", \"C:\\Program Files\\PostgreSQL\\postgresql-42.2.9.jar\") \\\n",
    "    .getOrCreate()\n",
    "    \n"
   ]
  }
 ],
 "metadata": {
  "kernelspec": {
   "display_name": "Python 3",
   "language": "python",
   "name": "python3"
  },
  "language_info": {
   "codemirror_mode": {
    "name": "ipython",
    "version": 3
   },
   "file_extension": ".py",
   "mimetype": "text/x-python",
   "name": "python",
   "nbconvert_exporter": "python",
   "pygments_lexer": "ipython3",
   "version": "3.6.1"
  }
 },
 "nbformat": 4,
 "nbformat_minor": 2
}
